{
 "cells": [
  {
   "cell_type": "code",
   "execution_count": null,
   "metadata": {
    "collapsed": false
   },
   "outputs": [],
   "source": []
  },
  {
   "cell_type": "markdown",
   "metadata": {},
   "source": [
    "\n",
    "# Feature importances with forests of trees\n",
    "\n",
    "\n",
    "This examples shows the use of forests of trees to evaluate the importance of\n",
    "features on an artificial classification task. The red bars are the feature\n",
    "importances of the forest, along with their inter-trees variability.\n",
    "\n",
    "As expected, the plot suggests that 3 features are informative, while the\n",
    "remaining are not.\n"
   ]
  },
  {
   "cell_type": "code",
   "execution_count": 188,
   "metadata": {
    "collapsed": false
   },
   "outputs": [
    {
     "name": "stdout",
     "output_type": "stream",
     "text": [
      "Feature ranking:\n",
      "0. feature 877 (0.038853)\n",
      "1. feature 1782 (0.024759)\n",
      "2. feature 1682 (0.022068)\n",
      "3. feature 859 (0.021317)\n",
      "4. feature 861 (0.021091)\n",
      "5. feature 264 (0.020480)\n",
      "6. feature 1681 (0.019161)\n",
      "7. feature 1706 (0.018738)\n",
      "8. feature 640 (0.016330)\n",
      "9. feature 1667 (0.016048)\n"
     ]
    },
    {
     "data": {
      "image/png": "[encoded data removed]",
      "text/plain": [
       "<matplotlib.figure.Figure at 0x7fdfce98d390>"
      ]
     },
     "metadata": {},
     "output_type": "display_data"
    }
   ],
   "source": [
    "%matplotlib inline\n",
    "import pandas as pd\n",
    "import numpy as np\n",
    "import matplotlib.pyplot as plt\n",
    "\n",
    "from sklearn.ensemble import RandomForestClassifier\n",
    "from sklearn.ensemble import ExtraTreesClassifier\n",
    "\n",
    "#讀取資料(Train Data)\n",
    "#資料大小:row:10868 column:1805\n",
    "mydata = pd.read_csv('/Microsoft-Malware-Challenge/Dataset/train/LargeTrain.csv')\n",
    "\n",
    "#X,y分別是特徵矩陣和目標矩陣,ix[列(row):行(column)]\n",
    "#slice >> [起始:結束:間隔]\n",
    "#X取所有列(:)和0~1803行(不包含最後一行(class) >> 0:1804 ※python不會包含最後一個位移植)\n",
    "X = np.array(mydata.ix[:,0:1804])\n",
    "\n",
    "#y取所有列(:)和最後一行(1804:1805)or(1804:)\n",
    "y = np.array(mydata.ix[:,1804:1805]).ravel()\n",
    "\n",
    "# Build a forest and compute the feature importances\n",
    "forest = ExtraTreesClassifier(n_estimators=10,\n",
    "                              random_state=0)\n",
    "\n",
    "forest.fit(X, y)\n",
    "importances = forest.feature_importances_\n",
    "\n",
    "indices = np.argsort(importances)[::-1]\n",
    "\n",
    "# Print the feature ranking\n",
    "print(\"Feature ranking:\")\n",
    "\n",
    "for f in range(10):\n",
    "    print(\"%d. feature %d (%f)\" % (f, indices[f], importances[indices[f]]))\n",
    "\n",
    "# Plot the feature importances of the forest\n",
    "plt.figure()\n",
    "\n",
    "#Set a title of the current axes(軸)\n",
    "plt.title(\"Feature importances\",fontsize=16, fontweight='bold')\n",
    "\n",
    "# Choose top 10\n",
    "#Make a bar plot.\n",
    "plt.bar(range(10), importances[indices[0:10]], color=\"g\",align=\"center\")\n",
    "\n",
    "#Set the axis label of the current axis.\n",
    "plt.xlabel('Rank')\n",
    "plt.ylabel('Impoartance')\n",
    "\n",
    "#Get or set the x-limits of the current tick locations and labels.\n",
    "#例如 : plt.xticks(locations, labels)\n",
    "plt.xticks(range(10), range(10))\n",
    "\n",
    "#Get or set the x limits of the current axes.\n",
    "plt.xlim([-1, 10])# set the xlim to xmin, xmax\n",
    "plt.show()"
   ]
  },
  {
   "cell_type": "code",
   "execution_count": null,
   "metadata": {
    "collapsed": false
   },
   "outputs": [],
   "source": []
  },
  {
   "cell_type": "code",
   "execution_count": null,
   "metadata": {
    "collapsed": true
   },
   "outputs": [],
   "source": []
  }
 ],
 "metadata": {
  "kernelspec": {
   "display_name": "Python 3",
   "language": "python",
   "name": "python3"
  },
  "language_info": {
   "codemirror_mode": {
    "name": "ipython",
    "version": 3
   },
   "file_extension": ".py",
   "mimetype": "text/x-python",
   "name": "python",
   "nbconvert_exporter": "python",
   "pygments_lexer": "ipython3",
   "version": "3.4.5"
  }
 },
 "nbformat": 4,
 "nbformat_minor": 0
}
